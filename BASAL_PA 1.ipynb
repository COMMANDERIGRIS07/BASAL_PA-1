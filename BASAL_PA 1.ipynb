{
 "cells": [
  {
   "cell_type": "code",
   "execution_count": 2,
   "id": "c7bb206a-c94f-4101-b7c0-04ed2604c3db",
   "metadata": {},
   "outputs": [
    {
     "name": "stdout",
     "output_type": "stream",
     "text": [
      "ehllo\n",
      "acehkr\n",
      "hnoPty\n",
      "Aabehlpt\n"
     ]
    }
   ],
   "source": [
    "#ALPHABET_SOUP_PROBLEM\n",
    "def alphabet_soup(word: str) -> str:\n",
    "    \n",
    "    sorted_chars = sorted(word, key=str.lower)\n",
    "   \n",
    "    return ''.join(sorted_chars)\n",
    "\n",
    "print(alphabet_soup(\"hello\"))    \n",
    "print(alphabet_soup(\"hacker\"))   \n",
    "print(alphabet_soup(\"Python\"))   \n",
    "print(alphabet_soup(\"Alphabet\")) "
   ]
  },
  {
   "cell_type": "code",
   "execution_count": 4,
   "id": "a4d5fc06-150c-4769-aab1-f6b352fd1c0b",
   "metadata": {},
   "outputs": [
    {
     "name": "stdout",
     "output_type": "stream",
     "text": [
      "Make me :)\n",
      "I am >:(\n",
      "Don't be :((\n",
      "He makes me :D\n"
     ]
    }
   ],
   "source": [
    "#EMOTICON_PROBLEM\n",
    "def emotify(sentence: str) -> str:\n",
    "    emoticons = {\"smile\": \":)\", \"grin\": \":D\", \"sad\": \":((\", \"mad\": \">:(\"}\n",
    "\n",
    "    for word, symbol in emoticons.items():\n",
    "        sentence = sentence.replace(word, symbol).replace(word.capitalize(), symbol)\n",
    "    \n",
    "    return sentence\n",
    "\n",
    "print(emotify(\"Make me smile\"))   \n",
    "print(emotify(\"I am mad\"))        \n",
    "print(emotify(\"Don't be sad\"))    \n",
    "print(emotify(\"He makes me grin\"))"
   ]
  },
  {
   "cell_type": "code",
   "execution_count": 11,
   "id": "ab82c976-55a0-43da-a16a-61a8da2225dd",
   "metadata": {},
   "outputs": [
    {
     "name": "stdout",
     "output_type": "stream",
     "text": [
      "first: 1\n",
      "middle: [2, 3, 4, 5]\n",
      "last: 6\n"
     ]
    }
   ],
   "source": [
    "#UNPACKING_LIST_PROBLEM\n",
    "list = [1, 2, 3, 4, 5, 6]\n",
    "\n",
    "first, *middle, last = list\n",
    "\n",
    "print(\"first:\", first)\n",
    "print(\"middle:\", middle)\n",
    "print(\"last:\", last)"
   ]
  }
 ],
 "metadata": {
  "kernelspec": {
   "display_name": "Python 3 (ipykernel)",
   "language": "python",
   "name": "python3"
  },
  "language_info": {
   "codemirror_mode": {
    "name": "ipython",
    "version": 3
   },
   "file_extension": ".py",
   "mimetype": "text/x-python",
   "name": "python",
   "nbconvert_exporter": "python",
   "pygments_lexer": "ipython3",
   "version": "3.13.5"
  }
 },
 "nbformat": 4,
 "nbformat_minor": 5
}
